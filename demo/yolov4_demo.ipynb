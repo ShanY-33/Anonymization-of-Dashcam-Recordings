{
 "cells": [
  {
   "cell_type": "code",
   "execution_count": 4,
   "metadata": {},
   "outputs": [],
   "source": [
    "from yolov4.tf import YOLOv4"
   ]
  },
  {
   "cell_type": "code",
   "execution_count": null,
   "metadata": {},
   "outputs": [],
   "source": [
    "#config\n",
    "model_name = 'yolov4.conv.137'\n"
   ]
  },
  {
   "cell_type": "code",
   "execution_count": null,
   "metadata": {},
   "outputs": [],
   "source": [
    "yolo = YOLOv4()\n",
    "# yolo = YOLOv4(tiny=True)\n",
    "\n",
    "yolo.classes = \"./data/coco.names\"\n",
    "yolo.input_size = (640, 480)\n",
    "\n",
    "yolo.make_model()\n",
    "yolo.load_weights(\"./model/yolo_weight/\" + model_name, weights_type=\"yolo\")\n",
    "# yolo.load_weights(\"yolov4-tiny.weights\", weights_type=\"yolo\")\n",
    "\n",
    "yolo.inference(media_path=\"./data/input/2e0b8c66-1275-4bb0-810c-d8e3089e4de1.jpg\")\n"
   ]
  },
  {
   "cell_type": "code",
   "execution_count": null,
   "metadata": {},
   "outputs": [],
   "source": []
  },
  {
   "cell_type": "code",
   "execution_count": null,
   "metadata": {},
   "outputs": [],
   "source": []
  }
 ],
 "metadata": {
  "kernelspec": {
   "display_name": "Python [conda env:dcaiti]",
   "language": "python",
   "name": "dcaiti"
  },
  "language_info": {
   "codemirror_mode": {
    "name": "ipython",
    "version": 3
   },
   "file_extension": ".py",
   "mimetype": "text/x-python",
   "name": "python",
   "nbconvert_exporter": "python",
   "pygments_lexer": "ipython3",
   "version": "3.6.12"
  }
 },
 "nbformat": 4,
 "nbformat_minor": 2
}
