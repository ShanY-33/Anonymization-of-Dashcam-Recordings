{
 "metadata": {
  "language_info": {
   "codemirror_mode": {
    "name": "ipython",
    "version": 3
   },
   "file_extension": ".py",
   "mimetype": "text/x-python",
   "name": "python",
   "nbconvert_exporter": "python",
   "pygments_lexer": "ipython3",
   "version": "3.6.12-final"
  },
  "orig_nbformat": 2,
  "kernelspec": {
   "name": "dcaiti",
   "display_name": "Python [conda env:dcaiti]"
  }
 },
 "nbformat": 4,
 "nbformat_minor": 2,
 "cells": [
  {
   "source": [
    "Import"
   ],
   "cell_type": "markdown",
   "metadata": {}
  },
  {
   "cell_type": "code",
   "execution_count": 458,
   "metadata": {},
   "outputs": [],
   "source": [
    "import numpy as np\n",
    "import os\n",
    "import pathlib\n",
    "import six.moves.urllib as urllib\n",
    "import sys\n",
    "import tarfile\n",
    "import tensorflow as tf\n",
    "import zipfile\n",
    "\n",
    "from collections import defaultdict\n",
    "from io import StringIO\n",
    "from matplotlib import pyplot as plt\n",
    "from PIL import Image\n",
    "from IPython.display import display"
   ]
  },
  {
   "cell_type": "code",
   "execution_count": 459,
   "metadata": {},
   "outputs": [],
   "source": [
    "from object_detection.utils import ops as utils_ops\n",
    "from object_detection.utils import label_map_util\n",
    "from object_detection.utils import visualization_utils as vis_util"
   ]
  },
  {
   "cell_type": "code",
   "execution_count": 460,
   "metadata": {},
   "outputs": [],
   "source": [
    "# patch tf1 into `utils.ops`\n",
    "utils_ops.tf = tf.compat.v1\n",
    "\n",
    "# Patch the location of gfile\n",
    "tf.gfile = tf.io.gfile"
   ]
  },
  {
   "cell_type": "code",
   "execution_count": 73,
   "metadata": {},
   "outputs": [],
   "source": []
  },
  {
   "cell_type": "code",
   "execution_count": 461,
   "metadata": {},
   "outputs": [],
   "source": [
    "# List of the strings that is used to add correct label for each box.\n",
    "PATH_TO_LABELS = './data/mscoco_label_map.pbtxt'\n",
    "category_index = label_map_util.create_category_index_from_labelmap(PATH_TO_LABELS, use_display_name=True)"
   ]
  },
  {
   "cell_type": "code",
   "execution_count": 462,
   "metadata": {},
   "outputs": [],
   "source": [
    "# If you want to test the code with your images, just add path to the images to the TEST_IMAGE_PATHS.\n",
    "PATH_TO_TEST_IMAGES_DIR = pathlib.Path('./data/input')\n",
    "TEST_IMAGE_PATHS = sorted(list(PATH_TO_TEST_IMAGES_DIR.glob(\"*.jpg\")))\n",
    "TEST_IMAGE_PATHS\n",
    "image_id = 0"
   ]
  },
  {
   "cell_type": "code",
   "execution_count": 463,
   "metadata": {},
   "outputs": [],
   "source": [
    "model_name = 'ssd_mobilenet_v2_fpnlite_640x640_coco17_tpu-8'\n",
    "detection_model =  tf.saved_model.load('./model/TensorFlow_model_zoo/' + model_name + '/saved_model')"
   ]
  },
  {
   "cell_type": "code",
   "execution_count": 464,
   "metadata": {
    "tags": []
   },
   "outputs": [],
   "source": [
    "threshold = 0.4"
   ]
  },
  {
   "cell_type": "code",
   "execution_count": 465,
   "metadata": {},
   "outputs": [
    {
     "output_type": "execute_result",
     "data": {
      "text/plain": [
       "{'raw_detection_boxes': tf.float32,\n",
       " 'detection_anchor_indices': tf.float32,\n",
       " 'detection_scores': tf.float32,\n",
       " 'detection_boxes': tf.float32,\n",
       " 'raw_detection_scores': tf.float32,\n",
       " 'detection_multiclass_scores': tf.float32,\n",
       " 'detection_classes': tf.float32,\n",
       " 'num_detections': tf.float32}"
      ]
     },
     "metadata": {},
     "execution_count": 465
    }
   ],
   "source": [
    "detection_model.signatures['serving_default'].output_dtypes"
   ]
  },
  {
   "cell_type": "code",
   "execution_count": 466,
   "metadata": {},
   "outputs": [
    {
     "output_type": "execute_result",
     "data": {
      "text/plain": [
       "{'raw_detection_boxes': TensorShape([1, 51150, 4]),\n",
       " 'detection_anchor_indices': TensorShape([1, 100]),\n",
       " 'detection_scores': TensorShape([1, 100]),\n",
       " 'detection_boxes': TensorShape([1, 100, 4]),\n",
       " 'raw_detection_scores': TensorShape([1, 51150, 91]),\n",
       " 'detection_multiclass_scores': TensorShape([1, 100, 91]),\n",
       " 'detection_classes': TensorShape([1, 100]),\n",
       " 'num_detections': TensorShape([1])}"
      ]
     },
     "metadata": {},
     "execution_count": 466
    }
   ],
   "source": [
    "detection_model.signatures['serving_default'].output_shapes"
   ]
  },
  {
   "cell_type": "code",
   "execution_count": 467,
   "metadata": {},
   "outputs": [],
   "source": [
    "def run_inference_for_single_image(model, image, threshold):\n",
    "  image = np.asarray(image)\n",
    "  # The input needs to be a tensor, convert it using `tf.convert_to_tensor`.\n",
    "  input_tensor = tf.convert_to_tensor(image)\n",
    "  # The model expects a batch of images, so add an axis with `tf.newaxis`.\n",
    "  input_tensor = input_tensor[tf.newaxis,...]\n",
    "\n",
    "  # Run inference\n",
    "  model_fn = model.signatures['serving_default']\n",
    "  output_dict = model_fn(input_tensor)\n",
    "\n",
    "  # All outputs are batches tensors.\n",
    "  # Convert to numpy arrays, and take index [0] to remove the batch dimension.\n",
    "  # We're only interested in the first num_detections.\n",
    "  num_detections = int(output_dict.pop('num_detections'))\n",
    "  output_dict = {key:value[0, :num_detections].numpy() \n",
    "                 for key,value in output_dict.items()}\n",
    "  output_dict['num_detections'] = num_detections\n",
    "\n",
    "  # detection_classes should be ints.\n",
    "  output_dict['detection_classes'] = output_dict['detection_classes'].astype(np.int64)\n",
    "   \n",
    "  # Handle models with masks:\n",
    "  if 'detection_masks' in output_dict:\n",
    "    # Reframe the the bbox mask to the image size.\n",
    "    detection_masks_reframed = utils_ops.reframe_box_masks_to_image_masks(\n",
    "              output_dict['detection_masks'], output_dict['detection_boxes'],\n",
    "               image.shape[0], image.shape[1])      \n",
    "    detection_masks_reframed = tf.cast(detection_masks_reframed >0.5,\n",
    "                                       tf.uint8)\n",
    "    output_dict['detection_masks_reframed'] = detection_masks_reframed.numpy()\n",
    "    \n",
    "  return output_dict"
   ]
  },
  {
   "cell_type": "code",
   "execution_count": 468,
   "metadata": {},
   "outputs": [],
   "source": [
    "def show_inference(model, image_path):\n",
    "  # the array based representation of the image will be used later in order to prepare the\n",
    "  # result image with boxes and labels on it.\n",
    "  image_np = np.array(Image.open(image_path))\n",
    "  # Actual detection.\n",
    "  output_dict = run_inference_for_single_image(model, image_np, threshold)\n",
    "  # Visualization of the results of a detection.\n",
    "  vis_util.visualize_boxes_and_labels_on_image_array(\n",
    "      image_np,\n",
    "      output_dict['detection_boxes'],\n",
    "      output_dict['detection_classes'],\n",
    "      output_dict['detection_scores'],\n",
    "      category_index,\n",
    "      instance_masks=output_dict.get('detection_masks_reframed', None),\n",
    "      use_normalized_coordinates=True,\n",
    "      min_score_thresh=threshold,\n",
    "      line_thickness=4)\n",
    "\n",
    "  # display(Image.fromarray(image_np))"
   ]
  },
  {
   "cell_type": "code",
   "execution_count": 469,
   "metadata": {},
   "outputs": [],
   "source": [
    "def get_unnormalized_boxes(image_height, image_length, boxes):\n",
    "    unnormalized_boxes = boxes.copy()\n",
    "    unnormalized_boxes[ : , 0: : 2] = image_height * unnormalized_boxes[ : , 0: : 2]\n",
    "    unnormalized_boxes[ : , 1: : 2] = image_length * unnormalized_boxes[ : , 1: : 2]\n",
    "    return unnormalized_boxes"
   ]
  },
  {
   "cell_type": "code",
   "execution_count": 470,
   "metadata": {},
   "outputs": [],
   "source": [
    "\n",
    "def clip_image_from_box(image_np, output_dict, threshold):\n",
    "    #image_np\n",
    "    im_height, im_length = image_np.shape[0], image_np.shape[1]\n",
    "    boxes = get_unnormalized_boxes(im_height, im_length, output_dict['detection_boxes'])\n",
    "\n",
    "    extend = 10\n",
    "    #1: person; 3: car; 4: motorcycle; 6: bus; 8: truck\n",
    "    detection_classes = (1, 3, 4)\n",
    "    for i in range(boxes.shape[0]):\n",
    "        if (output_dict['detection_classes'][i] in detection_classes \n",
    "             and output_dict['detection_scores'][i] > threshold):\n",
    "             cropped_image = tf.image.crop_to_bounding_box(\n",
    "                                                    image_np,\n",
    "                                                    offset_height = int(max(boxes[i, 0] - extend, 0)),\n",
    "                                                    offset_width = int(max(boxes[i, 1] - extend, 0)),\n",
    "                                                    target_height = int(min(boxes[i, 2] - boxes[i, 0] +2 * extend, im_height - boxes[i, 0])),\n",
    "                                                    target_width = int(min(boxes[i, 3] - boxes[i, 1] +2 * extend, im_length - boxes[i, 1]))\n",
    "                                                    )\n",
    "             cropped_image = np.array(cropped_image)\n",
    "             #save_image(cropped_image, i)\n",
    "\n",
    "             display(Image.fromarray(cropped_image))\n"
   ]
  },
  {
   "cell_type": "code",
   "execution_count": 471,
   "metadata": {},
   "outputs": [],
   "source": [
    "def clip_image_from_merged_boxes(image_np, boxes):\n",
    "    im_height, im_length = image_np.shape[0], image_np.shape[1]\n",
    "    extend = 10\n",
    "    for i in range(boxes.shape[0]):\n",
    "        cropped_image = tf.image.crop_to_bounding_box(\n",
    "                                                    image_np,\n",
    "                                                    offset_height = int(max(boxes[i, 0] - extend, 0)),\n",
    "                                                    offset_width = int(max(boxes[i, 1] - extend, 0)),\n",
    "                                                    target_height = int(min(boxes[i, 2] - boxes[i, 0] +2 * extend, im_height - boxes[i, 0])),\n",
    "                                                    target_width = int(min(boxes[i, 3] - boxes[i, 1] +2 * extend, im_length - boxes[i, 1]))\n",
    "                                                    )\n",
    "        cropped_image = np.array(cropped_image)\n",
    "        save_image(cropped_image, i)\n",
    "\n",
    "        # display(Image.fromarray(cropped_image))\n"
   ]
  },
  {
   "cell_type": "code",
   "execution_count": 472,
   "metadata": {},
   "outputs": [],
   "source": [
    "\n",
    "def is_small_box(loc, w, h, thre=0.1):\n",
    "    return ((loc[3]-loc[1])<thre*h)&((loc[2]-loc[0])<thre*w)\n",
    "\n",
    "\n",
    "def merge_bound_box_near(output_dict, w, h, thre=0.1):\n",
    "    '''\n",
    "    merge bound boxes\n",
    "    Args:\n",
    "        locs-->list: [[x_min1,y_min1,x_max2,y_max2],...,[x_min1,y_min1,x_max2,y_max2]]\n",
    "        w: the width of the image\n",
    "        h: the height of the image\n",
    "        thre: threshold for judging if two bound box is near enough\n",
    "    '''\n",
    "    locs = []\n",
    "    boxes = get_unnormalized_boxes(w, h, output_dict['detection_boxes'])\n",
    "\n",
    "    #1: person; 3: car; 4: motorcycle; 6: bus; 8: truck\n",
    "    detection_classes = (1, 3, 4, 6, 8)\n",
    "    for i in range(boxes.shape[0]):\n",
    "        if (output_dict['detection_classes'][i] in detection_classes \n",
    "             and output_dict['detection_scores'][i] > threshold): \n",
    "             locs.append(boxes[i])\n",
    "\n",
    "    # print(locs)\n",
    "\n",
    "    flag = False\n",
    "    while not flag:\n",
    "        if_modify = False\n",
    "        locs_num = len(locs)\n",
    "        for i in range(len(locs)-1):\n",
    "            x_min, y_min, x_max, y_max = locs[i]\n",
    "            for j in range(i+1,len(locs)):\n",
    "                # if i == j:\n",
    "                #     continue\n",
    "                x_min2, y_min2, x_max2, y_max2 = locs[j]\n",
    "                # if (not is_small_box(locs[i],w,h)) & (not is_small_box(locs[j],w,h)):\n",
    "                #     continue\n",
    "\n",
    "                #same\n",
    "                almost_same_thre = 0.01\n",
    "                if (abs(x_min-x_min2)<almost_same_thre*w) and (abs(x_max-x_max2)<almost_same_thre*w) and(abs(y_max-y_max2)<almost_same_thre*h) and (abs(y_min-y_min2)<almost_same_thre*h):\n",
    "                    locs[i] = [min(x_min, x_min2),min(y_min, y_min2),max(x_max, x_max2),max(y_max, y_max2)]\n",
    "                    del locs[j]\n",
    "                    if_modify = True\n",
    "                    break\n",
    "\n",
    "                #near\n",
    "                if (is_small_box(locs[i],w,h)) or ( is_small_box(locs[j],w,h)):\n",
    "                    y_near = abs((y_min+y_max)/2-(y_min2+y_max2)/2) < thre*h + (y_max-y_min)/2+(y_max2-y_min2)/2\n",
    "                    x_near = abs((x_min+x_max)/2-(x_min2+x_max2)/2) < thre*w + (x_max-x_min)/2+(x_max2-x_min2)/2\n",
    "                    if y_near&x_near:\n",
    "                        locs[i] = [min(x_min, x_min2),min(y_min, y_min2),max(x_max, x_max2),max(y_max, y_max2)]\n",
    "                        del locs[j]\n",
    "                        if_modify = True\n",
    "                        break\n",
    "\n",
    "                #include\n",
    "                extend = 0.1\n",
    "                if(x_min<x_min2+extend*w and y_min<y_min2+extend*h and x_max>x_max2-extend*w and y_max>y_max2-extend*h) or (x_min>x_min2-extend*w and y_min>y_min2-extend*h and x_max<x_max2+extend*w and y_max<y_max2+extend*h):\n",
    "                    locs[i] = [min(x_min, x_min2),min(y_min, y_min2),max(x_max, x_max2),max(y_max, y_max2)]\n",
    "                    del locs[j]\n",
    "                    if_modify = True\n",
    "                    break\n",
    "\n",
    "\n",
    "            if if_modify:\n",
    "                break\n",
    "        if not if_modify:\n",
    "            flag = True\n",
    "    # locs = np.array(locs)\n",
    "    # print(locs)\n",
    "    return np.asarray(locs)\n",
    "\n",
    "def merge_boxes_and_clip(model, image_path):\n",
    "    # the array based representation of the image will be used later in order to prepare the\n",
    "    # result image with boxes and labels on it.\n",
    "    image_np = np.array(Image.open(image_path))\n",
    "    im_height, im_length = image_np.shape[0], image_np.shape[1]\n",
    "    # Actual detection.\n",
    "    output_dict = run_inference_for_single_image(model, image_np, threshold)\n",
    "    merged_boxes = merge_bound_box_near(output_dict,  im_height,  im_length)\n",
    "    clip_image_from_merged_boxes( image_np, merged_boxes)\n",
    "\n",
    "\n"
   ]
  },
  {
   "cell_type": "code",
   "execution_count": 473,
   "metadata": {},
   "outputs": [],
   "source": [
    "def save_image(cropped_image, image_part):\n",
    "    path = './data/output/'\n",
    "    Image.fromarray(cropped_image).save(path + \"img\" + str(image_id)+'_'+str(image_part)+ \".jpg\")\n"
   ]
  },
  {
   "cell_type": "code",
   "execution_count": 474,
   "metadata": {
    "tags": []
   },
   "outputs": [],
   "source": [
    "for image_path in TEST_IMAGE_PATHS:\n",
    "  image_id += 1\n",
    "  show_inference(detection_model, image_path)\n",
    "  merge_boxes_and_clip(detection_model, image_path)\n",
    "\n",
    "  # # the array based representation of the image will be used later in order to prepare the\n",
    "  # # result image with boxes and labels on it.\n",
    "  # image_np = np.array(Image.open(image_path))\n",
    "  # # Actual detection.\n",
    "  # output_dict = run_inference_for_single_image(detection_model, image_np, threshold)\n",
    "\n",
    "  # clip_image_from_box(image_np, output_dict, threshold)"
   ]
  },
  {
   "cell_type": "code",
   "execution_count": null,
   "metadata": {},
   "outputs": [],
   "source": []
  },
  {
   "cell_type": "code",
   "execution_count": null,
   "metadata": {},
   "outputs": [],
   "source": []
  },
  {
   "cell_type": "code",
   "execution_count": null,
   "metadata": {},
   "outputs": [],
   "source": []
  },
  {
   "cell_type": "code",
   "execution_count": null,
   "metadata": {},
   "outputs": [],
   "source": []
  },
  {
   "cell_type": "code",
   "execution_count": null,
   "metadata": {},
   "outputs": [],
   "source": []
  },
  {
   "cell_type": "code",
   "execution_count": null,
   "metadata": {},
   "outputs": [],
   "source": []
  },
  {
   "cell_type": "code",
   "execution_count": 29,
   "metadata": {},
   "outputs": [
    {
     "output_type": "stream",
     "name": "stdout",
     "text": [
      "INFO:tensorflow:Saver not created because there are no variables in the graph to restore\n"
     ]
    }
   ],
   "source": []
  },
  {
   "cell_type": "code",
   "execution_count": 15,
   "metadata": {},
   "outputs": [
    {
     "output_type": "error",
     "ename": "AttributeError",
     "evalue": "'AutoTrackable' object has no attribute 'output_shapes'",
     "traceback": [
      "\u001b[0;31m---------------------------------------------------------------------------\u001b[0m",
      "\u001b[0;31mAttributeError\u001b[0m                            Traceback (most recent call last)",
      "\u001b[0;32m<ipython-input-15-31bf89ff98cf>\u001b[0m in \u001b[0;36m<module>\u001b[0;34m\u001b[0m\n\u001b[0;32m----> 1\u001b[0;31m \u001b[0mmasking_model\u001b[0m\u001b[0;34m.\u001b[0m\u001b[0moutput_shapes\u001b[0m\u001b[0;34m\u001b[0m\u001b[0;34m\u001b[0m\u001b[0m\n\u001b[0m",
      "\u001b[0;31mAttributeError\u001b[0m: 'AutoTrackable' object has no attribute 'output_shapes'"
     ]
    }
   ],
   "source": []
  },
  {
   "cell_type": "code",
   "execution_count": null,
   "metadata": {},
   "outputs": [],
   "source": []
  },
  {
   "cell_type": "code",
   "execution_count": null,
   "metadata": {},
   "outputs": [],
   "source": []
  },
  {
   "cell_type": "code",
   "execution_count": null,
   "metadata": {},
   "outputs": [],
   "source": []
  }
 ]
}